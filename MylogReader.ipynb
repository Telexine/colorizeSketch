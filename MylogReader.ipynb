{
 "cells": [
  {
   "cell_type": "code",
   "execution_count": 1,
   "metadata": {},
   "outputs": [],
   "source": [
    "%matplotlib inline\n",
    "import matplotlib.pyplot as plt\n",
    "import pandas as pd "
   ]
  },
  {
   "cell_type": "code",
   "execution_count": 2,
   "metadata": {},
   "outputs": [
    {
     "name": "stdout",
     "output_type": "stream",
     "text": [
      "Data Analysis - CheatSheet.ipynb  logs (1).txt\r\n",
      "IMDB.xlsx                         \u001b[31mlogs.txt\u001b[m\u001b[m*\r\n",
      "MylogReader.ipynb                 \u001b[31mp2plog.txt\u001b[m\u001b[m*\r\n",
      "\u001b[31mlog.txt\u001b[m\u001b[m*                          python for data sci.ipynb\r\n"
     ]
    }
   ],
   "source": [
    "ls"
   ]
  },
  {
   "cell_type": "markdown",
   "metadata": {},
   "source": [
    "## Import CSV log"
   ]
  },
  {
   "cell_type": "code",
   "execution_count": null,
   "metadata": {},
   "outputs": [],
   "source": []
  },
  {
   "cell_type": "code",
   "execution_count": 3,
   "metadata": {},
   "outputs": [],
   "source": [
    "data = pd.read_csv(\"log.txt\")\n"
   ]
  },
  {
   "cell_type": "code",
   "execution_count": 4,
   "metadata": {},
   "outputs": [],
   "source": [
    "def readfile(f):\n",
    "    fr = open(f,\"r\",encoding=\"utf-8\")\n",
    "    data = []\n",
    "    data = fr.readlines()\n",
    "    fr.close()\n",
    "    return data\n"
   ]
  },
  {
   "cell_type": "code",
   "execution_count": 5,
   "metadata": {},
   "outputs": [],
   "source": [
    "data = readfile(\"logs.txt\")"
   ]
  },
  {
   "cell_type": "raw",
   "metadata": {},
   "source": [
    "ls"
   ]
  },
  {
   "cell_type": "code",
   "execution_count": 1,
   "metadata": {
    "scrolled": false
   },
   "outputs": [
    {
     "ename": "NameError",
     "evalue": "name 'data' is not defined",
     "output_type": "error",
     "traceback": [
      "\u001b[0;31m---------------------------------------------------------------------------\u001b[0m",
      "\u001b[0;31mNameError\u001b[0m                                 Traceback (most recent call last)",
      "\u001b[0;32m<ipython-input-1-40506c45b38a>\u001b[0m in \u001b[0;36m<module>\u001b[0;34m()\u001b[0m\n\u001b[1;32m      4\u001b[0m \u001b[0mtime\u001b[0m\u001b[0;34m=\u001b[0m \u001b[0;34m[\u001b[0m\u001b[0;34m]\u001b[0m\u001b[0;34m\u001b[0m\u001b[0m\n\u001b[1;32m      5\u001b[0m \u001b[0mepouch\u001b[0m \u001b[0;34m=\u001b[0m \u001b[0;34m[\u001b[0m\u001b[0;34m]\u001b[0m\u001b[0;34m\u001b[0m\u001b[0m\n\u001b[0;32m----> 6\u001b[0;31m \u001b[0;32mfor\u001b[0m \u001b[0mi\u001b[0m \u001b[0;32min\u001b[0m \u001b[0mrange\u001b[0m\u001b[0;34m(\u001b[0m\u001b[0mlen\u001b[0m\u001b[0;34m(\u001b[0m\u001b[0mdata\u001b[0m\u001b[0;34m)\u001b[0m\u001b[0;34m)\u001b[0m\u001b[0;34m:\u001b[0m\u001b[0;34m\u001b[0m\u001b[0m\n\u001b[0m\u001b[1;32m      7\u001b[0m     \u001b[0;32mtry\u001b[0m\u001b[0;34m:\u001b[0m\u001b[0;34m\u001b[0m\u001b[0m\n\u001b[1;32m      8\u001b[0m         \u001b[0mt\u001b[0m \u001b[0;34m=\u001b[0m \u001b[0mdata\u001b[0m\u001b[0;34m[\u001b[0m\u001b[0mi\u001b[0m\u001b[0;34m]\u001b[0m\u001b[0;34m[\u001b[0m\u001b[0mdata\u001b[0m\u001b[0;34m[\u001b[0m\u001b[0mi\u001b[0m\u001b[0;34m]\u001b[0m\u001b[0;34m.\u001b[0m\u001b[0mfind\u001b[0m\u001b[0;34m(\u001b[0m\u001b[0;34m'time: '\u001b[0m\u001b[0;34m)\u001b[0m\u001b[0;34m+\u001b[0m\u001b[0;36m5\u001b[0m\u001b[0;34m:\u001b[0m   \u001b[0mdata\u001b[0m\u001b[0;34m[\u001b[0m\u001b[0mi\u001b[0m\u001b[0;34m]\u001b[0m\u001b[0;34m.\u001b[0m\u001b[0mfind\u001b[0m\u001b[0;34m(\u001b[0m\u001b[0;34m', [d_loss:'\u001b[0m\u001b[0;34m)\u001b[0m \u001b[0;34m-\u001b[0m \u001b[0mlen\u001b[0m\u001b[0;34m(\u001b[0m\u001b[0mdata\u001b[0m\u001b[0;34m[\u001b[0m\u001b[0mi\u001b[0m\u001b[0;34m]\u001b[0m\u001b[0;34m)\u001b[0m\u001b[0;34m]\u001b[0m\u001b[0;34m.\u001b[0m\u001b[0mreplace\u001b[0m\u001b[0;34m(\u001b[0m\u001b[0;34m\" \"\u001b[0m\u001b[0;34m,\u001b[0m\u001b[0;34m\"\"\u001b[0m\u001b[0;34m)\u001b[0m\u001b[0;34m\u001b[0m\u001b[0m\n",
      "\u001b[0;31mNameError\u001b[0m: name 'data' is not defined"
     ]
    }
   ],
   "source": [
    "## normal discogan\n",
    "dloss = []\n",
    "gloss = []\n",
    "time= []\n",
    "epouch = []\n",
    "for i in range(len(data)):\n",
    "    try:\n",
    "        t = data[i][data[i].find('time: ')+5:   data[i].find(', [d_loss:') - len(data[i])].replace(\" \",\"\") \n",
    "        if len(t)<3: continue\n",
    "        time.append(t)\n",
    "        gloss.append(float(data[i][data[i].find('g_loss: ')+7:len(data[i])-2].replace(\" \",\"\")))\n",
    "        dloss.append(float(data[i][data[i].find('d_loss: ')+7:   data[i].find('g_loss:') - len(data[i])-2].replace(\" \",\"\") ))\n",
    "        epouch.append(int(data[i][1:data[i].find(']')]))\n",
    "    except:\n",
    "        continue"
   ]
  },
  {
   "cell_type": "code",
   "execution_count": null,
   "metadata": {},
   "outputs": [],
   "source": []
  },
  {
   "cell_type": "code",
   "execution_count": 185,
   "metadata": {},
   "outputs": [
    {
     "name": "stdout",
     "output_type": "stream",
     "text": [
      "16.0\n",
      "10.0\n",
      "19.0\n",
      "34.0\n",
      "38.0\n",
      "37.0\n",
      "37.0\n",
      "32.0\n",
      "40.0\n",
      "40.0\n",
      "39.0\n",
      "31.0\n",
      "35.0\n",
      "39.0\n",
      "39.0\n",
      "39.0\n",
      "45.0\n",
      "45.0\n",
      "47.0\n",
      "43.0\n",
      "49.0\n",
      "48.0\n",
      "48.0\n",
      "43.0\n",
      "47.0\n",
      "48.0\n",
      "43.0\n",
      "48.0\n",
      "44.0\n",
      "38.0\n",
      "49.0\n",
      "49.0\n",
      "53.0\n",
      "50.0\n",
      "45.0\n",
      "51.0\n",
      "47.0\n",
      "53.0\n",
      "49.0\n",
      "52.0\n",
      "48.0\n",
      "41.0\n",
      "49.0\n",
      "51.0\n",
      "50.0\n",
      "49.0\n",
      "49.0\n",
      "50.0\n",
      "49.0\n",
      "45.0\n",
      "45.0\n",
      "48.0\n",
      "42.0\n",
      "47.0\n",
      "43.0\n",
      "47.0\n",
      "48.0\n",
      "41.0\n",
      "46.0\n",
      "50.0\n",
      "46.0\n",
      "46.0\n",
      "45.0\n",
      "57.0\n",
      "47.0\n",
      "51.0\n",
      "50.0\n",
      "45.0\n",
      "51.0\n",
      "50.0\n",
      "46.0\n",
      "55.0\n",
      "53.0\n",
      "50.0\n",
      "54.0\n",
      "51.0\n",
      "47.0\n",
      "47.0\n",
      "47.0\n",
      "45.0\n",
      "48.0\n",
      "45.0\n",
      "51.0\n",
      "49.0\n",
      "53.0\n",
      "53.0\n",
      "48.0\n",
      "46.0\n",
      "47.0\n",
      "46.0\n",
      "50.0\n",
      "48.0\n",
      "42.0\n",
      "46.0\n",
      "52.0\n",
      "55.0\n",
      "42.0\n",
      "51.0\n",
      "50.0\n",
      "49.0\n",
      "49.0\n",
      "51.0\n",
      "55.0\n",
      "45.0\n",
      "47.0\n",
      "51.0\n",
      "51.0\n",
      "49.0\n",
      "35.0\n",
      "41.0\n",
      "42.0\n",
      "49.0\n",
      "52.0\n",
      "50.0\n",
      "44.0\n",
      "48.0\n",
      "54.0\n",
      "48.0\n",
      "49.0\n",
      "50.0\n",
      "44.0\n",
      "49.0\n",
      "47.0\n",
      "47.0\n",
      "41.0\n",
      "40.0\n",
      "50.0\n",
      "47.0\n",
      "49.0\n",
      "56.0\n",
      "51.0\n",
      "48.0\n",
      "49.0\n",
      "48.0\n",
      "49.0\n",
      "46.0\n",
      "53.0\n",
      "47.0\n",
      "4.0\n",
      "53.0\n",
      "57.0\n",
      "52.0\n",
      "48.0\n",
      "55.0\n",
      "45.0\n",
      "50.0\n",
      "45.0\n",
      "49.0\n",
      "50.0\n",
      "47.0\n",
      "43.0\n",
      "4.0\n",
      "43.0\n",
      "36.0\n",
      "43.0\n",
      "49.0\n",
      "57.0\n",
      "58.0\n",
      "48.0\n",
      "49.0\n",
      "50.0\n",
      "50.0\n",
      "49.0\n",
      "56.0\n",
      "51.0\n",
      "54.0\n",
      "50.0\n",
      "41.0\n",
      "51.0\n",
      "53.0\n",
      "48.0\n",
      "47.0\n",
      "47.0\n",
      "46.0\n",
      "52.0\n",
      "55.0\n",
      "51.0\n"
     ]
    }
   ],
   "source": [
    " for C in range(len(loss)):\n",
    "   print(loss[C])"
   ]
  },
  {
   "cell_type": "code",
   "execution_count": 186,
   "metadata": {},
   "outputs": [],
   "source": [
    "df = pd.DataFrame(loss)"
   ]
  },
  {
   "cell_type": "code",
   "execution_count": 187,
   "metadata": {},
   "outputs": [
    {
     "data": {
      "image/png": "[encoded data removed]",
      "text/plain": [
       "<Figure size 1152x648 with 1 Axes>"
      ]
     },
     "metadata": {},
     "output_type": "display_data"
    }
   ],
   "source": [
    "plt.rcParams[\"figure.figsize\"] = [16,9]\n",
    "plt.plot(df,'r')\n",
    "plt.grid()\n",
    "\n",
    "plt.show()\n",
    "\n"
   ]
  },
  {
   "cell_type": "code",
   "execution_count": 179,
   "metadata": {},
   "outputs": [
    {
     "data": {
      "image/png": "[encoded data removed]",
      "text/plain": [
       "<Figure size 1152x648 with 1 Axes>"
      ]
     },
     "metadata": {},
     "output_type": "display_data"
    }
   ],
   "source": [
    "plt.hist(df)\n",
    "plt.grid()\n",
    "\n",
    "plt.show()"
   ]
  },
  {
   "cell_type": "code",
   "execution_count": null,
   "metadata": {},
   "outputs": [],
   "source": []
  },
  {
   "cell_type": "code",
   "execution_count": 126,
   "metadata": {},
   "outputs": [
    {
     "data": {
      "image/png": "[encoded data removed]",
      "text/plain": [
       "<Figure size 720x720 with 1 Axes>"
      ]
     },
     "metadata": {},
     "output_type": "display_data"
    }
   ],
   "source": [
    "df.hist(figsize=(10,10))\n",
    "plt.show()"
   ]
  },
  {
   "cell_type": "code",
   "execution_count": null,
   "metadata": {},
   "outputs": [],
   "source": []
  },
  {
   "cell_type": "code",
   "execution_count": null,
   "metadata": {},
   "outputs": [],
   "source": []
  },
  {
   "cell_type": "code",
   "execution_count": null,
   "metadata": {},
   "outputs": [],
   "source": []
  },
  {
   "cell_type": "code",
   "execution_count": null,
   "metadata": {},
   "outputs": [],
   "source": []
  },
  {
   "cell_type": "code",
   "execution_count": null,
   "metadata": {},
   "outputs": [],
   "source": []
  },
  {
   "cell_type": "code",
   "execution_count": null,
   "metadata": {},
   "outputs": [],
   "source": []
  }
 ],
 "metadata": {
  "kernelspec": {
   "display_name": "Python 3",
   "language": "python",
   "name": "python3"
  },
  "language_info": {
   "codemirror_mode": {
    "name": "ipython",
    "version": 3
   },
   "file_extension": ".py",
   "mimetype": "text/x-python",
   "name": "python",
   "nbconvert_exporter": "python",
   "pygments_lexer": "ipython3",
   "version": "3.6.5"
  }
 },
 "nbformat": 4,
 "nbformat_minor": 2
}
